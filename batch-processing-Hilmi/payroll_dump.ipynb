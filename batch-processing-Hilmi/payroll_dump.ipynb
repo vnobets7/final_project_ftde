{
 "cells": [
  {
   "cell_type": "markdown",
   "metadata": {},
   "source": [
    "# Loading initial payroll data to postgresql database"
   ]
  },
  {
   "cell_type": "code",
   "execution_count": 5,
   "metadata": {},
   "outputs": [],
   "source": [
    "import json\n",
    "from sqlalchemy import create_engine\n",
    "import pandas as pd"
   ]
  },
  {
   "cell_type": "code",
   "execution_count": 10,
   "metadata": {},
   "outputs": [],
   "source": [
    "def config(db_name):\n",
    "    with open('config.json') as f:\n",
    "        data = json.load(f)[db_name]\n",
    "    return data\n",
    "\n",
    "def payroll_extract_initial_data():\n",
    "    db_config = config(\"db_management_payroll\")\n",
    "    connection_url = f'postgresql://{db_config[\"username\"]}:{db_config[\"password\"]}@{db_config[\"host\"]}:{db_config[\"port\"]}/{db_config[\"database\"]}?sslmode={db_config[\"sslmode\"]}'\n",
    "\n",
    "    engine = create_engine(connection_url)\n",
    "    \n",
    "    # Assuming the CSV file path is correct\n",
    "    df = pd.read_csv('csv(s)/data_management_payroll_update.csv')\n",
    "    df.to_sql('data_management_payroll', engine, if_exists='replace', index=False)\n",
    "    \n",
    "    print('Payroll data extracted successfully')\n",
    "    \n",
    "def performance_extract_initial_data():\n",
    "    db_config = config(\"db_performance_management\")\n",
    "    connection_url = f'postgresql://{db_config[\"username\"]}:{db_config[\"password\"]}@{db_config[\"host\"]}:{db_config[\"port\"]}/{db_config[\"database\"]}?sslmode={db_config[\"sslmode\"]}'\n",
    "\n",
    "    engine = create_engine(connection_url)\n",
    "    \n",
    "    # Assuming the CSV file path is correct\n",
    "    df = pd.read_csv('csv(s)/data_performance_management_update.csv')\n",
    "    df.to_sql('data_performance_management', engine, if_exists='replace', index=False)\n",
    "    \n",
    "    print('Performance data extracted successfully')\n",
    "    \n",
    "def training_extract_initial_data():\n",
    "    db_config = config(\"db_training_development\")\n",
    "    connection_url = f'postgresql://{db_config[\"username\"]}:{db_config[\"password\"]}@{db_config[\"host\"]}:{db_config[\"port\"]}/{db_config[\"database\"]}?sslmode={db_config[\"sslmode\"]}'\n",
    "\n",
    "    engine = create_engine(connection_url)\n",
    "    \n",
    "    # Assuming the CSV file path is correct\n",
    "    df = pd.read_csv('csv(s)/data_training_development_update.csv')\n",
    "    df.to_sql('data_training_development', engine, if_exists='replace', index=False)\n",
    "    \n",
    "    print('Training data extracted successfully')\n",
    "    \n",
    "def recruitment_extract_initial_data():\n",
    "    db_config = config(\"db_recruitment_selection\")\n",
    "    connection_url = f'postgresql://{db_config[\"username\"]}:{db_config[\"password\"]}@{db_config[\"host\"]}:{db_config[\"port\"]}/{db_config[\"database\"]}?sslmode={db_config[\"sslmode\"]}'\n",
    "\n",
    "    engine = create_engine(connection_url)\n",
    "    \n",
    "    # Assuming the CSV file path is correct\n",
    "    df = pd.read_csv('csv(s)/data_recruitment_selection_update.csv')\n",
    "    df.to_sql('Emp_recruitment_tb1', engine, if_exists='replace', index=False)\n",
    "    \n",
    "    print('Recruitment data extracted successfully')\n",
    "\n",
    "def load_to_db():\n",
    "    payroll_extract_initial_data()\n",
    "    performance_extract_initial_data()\n",
    "    training_extract_initial_data()\n",
    "    recruitment_extract_initial_data()"
   ]
  },
  {
   "cell_type": "code",
   "execution_count": 11,
   "metadata": {},
   "outputs": [
    {
     "name": "stdout",
     "output_type": "stream",
     "text": [
      "Payroll data extracted successfully\n",
      "Performance data extracted successfully\n",
      "Training data extracted successfully\n",
      "Recruitment data extracted successfully\n"
     ]
    }
   ],
   "source": [
    "if __name__ == '__main__':\n",
    "    load_to_db()\n",
    "    "
   ]
  },
  {
   "cell_type": "code",
   "execution_count": null,
   "metadata": {},
   "outputs": [],
   "source": []
  }
 ],
 "metadata": {
  "kernelspec": {
   "display_name": "base",
   "language": "python",
   "name": "python3"
  },
  "language_info": {
   "codemirror_mode": {
    "name": "ipython",
    "version": 3
   },
   "file_extension": ".py",
   "mimetype": "text/x-python",
   "name": "python",
   "nbconvert_exporter": "python",
   "pygments_lexer": "ipython3",
   "version": "3.12.3"
  }
 },
 "nbformat": 4,
 "nbformat_minor": 2
}
